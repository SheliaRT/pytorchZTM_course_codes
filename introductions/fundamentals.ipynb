{
 "cells": [
  {
   "cell_type": "code",
   "execution_count": 24,
   "metadata": {},
   "outputs": [],
   "source": [
    "import torch\n",
    "import pandas as pd\n",
    "import numpy as np\n",
    "import matplotlib.pyplot as plt\n"
   ]
  },
  {
   "attachments": {},
   "cell_type": "markdown",
   "metadata": {},
   "source": [
    "torch.tensors \n",
    "read through : https://pytorch.org/docs/stable/tensors.html"
   ]
  },
  {
   "cell_type": "code",
   "execution_count": 25,
   "metadata": {},
   "outputs": [
    {
     "data": {
      "text/plain": [
       "10"
      ]
     },
     "execution_count": 25,
     "metadata": {},
     "output_type": "execute_result"
    }
   ],
   "source": [
    "#scalar,0 dim tensor\n",
    "scalar=torch.tensor(10)\n",
    "scalar\n",
    "scalar.ndim\n",
    "\n",
    "#get tensor back as int\n",
    "scalar.item()"
   ]
  },
  {
   "cell_type": "code",
   "execution_count": 26,
   "metadata": {},
   "outputs": [
    {
     "data": {
      "text/plain": [
       "torch.Size([2])"
      ]
     },
     "execution_count": 26,
     "metadata": {},
     "output_type": "execute_result"
    }
   ],
   "source": [
    "#vector\n",
    "vector=torch.tensor([5,7])\n",
    "vector.ndim\n",
    "vector.shape"
   ]
  },
  {
   "cell_type": "code",
   "execution_count": 27,
   "metadata": {},
   "outputs": [
    {
     "data": {
      "text/plain": [
       "2"
      ]
     },
     "execution_count": 27,
     "metadata": {},
     "output_type": "execute_result"
    }
   ],
   "source": [
    "#matrix\n",
    "matrix=torch.tensor([[3,4]\n",
    "                     ,[7,8]])\n",
    "matrix\n",
    "matrix.shape\n",
    "matrix.ndim"
   ]
  },
  {
   "cell_type": "code",
   "execution_count": 28,
   "metadata": {},
   "outputs": [
    {
     "data": {
      "text/plain": [
       "torch.Size([2, 2, 3])"
      ]
     },
     "execution_count": 28,
     "metadata": {},
     "output_type": "execute_result"
    }
   ],
   "source": [
    "#tensor\n",
    "tensor1=torch.tensor([[[1,2,3],[3,2,1]],[[4,5,6],[6,5,4]]])\n",
    "tensor1\n",
    "tensor1.ndim\n",
    "tensor1.shape\n"
   ]
  },
  {
   "attachments": {},
   "cell_type": "markdown",
   "metadata": {},
   "source": [
    "### Random Tensors\n"
   ]
  },
  {
   "cell_type": "code",
   "execution_count": 29,
   "metadata": {},
   "outputs": [
    {
     "data": {
      "text/plain": [
       "tensor([[0.1560, 0.2910, 0.1686, 0.3063],\n",
       "        [0.0615, 0.7387, 0.0093, 0.7298],\n",
       "        [0.2020, 0.6085, 0.2720, 0.3195]])"
      ]
     },
     "execution_count": 29,
     "metadata": {},
     "output_type": "execute_result"
    }
   ],
   "source": [
    "random_tensor=torch.rand(3,4)\n",
    "random_tensor"
   ]
  },
  {
   "attachments": {},
   "cell_type": "markdown",
   "metadata": {},
   "source": [
    "### Zeros and Ones"
   ]
  },
  {
   "cell_type": "code",
   "execution_count": 30,
   "metadata": {},
   "outputs": [
    {
     "data": {
      "text/plain": [
       "tensor([[1., 1., 1., 1.],\n",
       "        [1., 1., 1., 1.],\n",
       "        [1., 1., 1., 1.]])"
      ]
     },
     "execution_count": 30,
     "metadata": {},
     "output_type": "execute_result"
    }
   ],
   "source": [
    "random_zeros=torch.zeros(size=(3,4))\n",
    "random_zeros\n",
    "random_ones=torch.ones(size=(3,4))\n",
    "random_ones"
   ]
  },
  {
   "attachments": {},
   "cell_type": "markdown",
   "metadata": {},
   "source": [
    "### Range of tensors"
   ]
  },
  {
   "cell_type": "code",
   "execution_count": 31,
   "metadata": {},
   "outputs": [
    {
     "data": {
      "text/plain": [
       "tensor([0, 0, 0, 0, 0, 0, 0, 0, 0, 0])"
      ]
     },
     "execution_count": 31,
     "metadata": {},
     "output_type": "execute_result"
    }
   ],
   "source": [
    "tensor_range=torch.arange(start=1,end=50,step=5)\n",
    "tensor_range\n",
    "tensor_like=torch.zeros_like(tensor_range)\n",
    "tensor_like"
   ]
  },
  {
   "cell_type": "code",
   "execution_count": 32,
   "metadata": {},
   "outputs": [
    {
     "data": {
      "text/plain": [
       "tensor([[0.7618, 0.0161, 0.3717, 0.5134, 0.7370],\n",
       "        [0.0312, 0.1096, 0.5345, 0.7217, 0.4007],\n",
       "        [0.0891, 0.1170, 0.3410, 0.2910, 0.6746],\n",
       "        [0.5632, 0.2169, 0.7754, 0.6254, 0.4927]])"
      ]
     },
     "execution_count": 32,
     "metadata": {},
     "output_type": "execute_result"
    }
   ],
   "source": [
    "some_tensor=torch.rand(4,5)\n",
    "some_tensor"
   ]
  },
  {
   "cell_type": "markdown",
   "metadata": {},
   "source": [
    "### Tensor Multiplication"
   ]
  },
  {
   "cell_type": "code",
   "execution_count": 33,
   "metadata": {},
   "outputs": [
    {
     "data": {
      "text/plain": [
       "tensor([[1.5796, 2.1817, 2.1769, 1.2924, 2.8761],\n",
       "        [0.8149, 1.4153, 1.6009, 1.0600, 2.2049],\n",
       "        [0.6721, 0.7010, 0.8605, 0.7471, 0.9678],\n",
       "        [1.2014, 1.9081, 1.5891, 1.2220, 2.0997]])"
      ]
     },
     "execution_count": 33,
     "metadata": {},
     "output_type": "execute_result"
    }
   ],
   "source": [
    "tensor_A=torch.rand(4,5)\n",
    "tensor_B=torch.rand(5,5)\n",
    "##Mul1=torch.matmul(tensor_A,tensor_B)\n",
    "Mul1=torch.mm(tensor_A,tensor_B)\n",
    "Mul1"
   ]
  },
  {
   "cell_type": "code",
   "execution_count": 34,
   "metadata": {},
   "outputs": [
    {
     "ename": "RuntimeError",
     "evalue": "mat1 and mat2 shapes cannot be multiplied (4x5 and 4x5)",
     "output_type": "error",
     "traceback": [
      "\u001b[1;31m---------------------------------------------------------------------------\u001b[0m",
      "\u001b[1;31mRuntimeError\u001b[0m                              Traceback (most recent call last)",
      "\u001b[1;32mc:\\Zmyfiles\\codes\\CODES\\CODES\\pytorchZTM_course_codes\\introductions\\fundamentals.ipynb Cell 16\u001b[0m line \u001b[0;36m3\n\u001b[0;32m      <a href='vscode-notebook-cell:/c%3A/Zmyfiles/codes/CODES/CODES/pytorchZTM_course_codes/introductions/fundamentals.ipynb#X21sZmlsZQ%3D%3D?line=0'>1</a>\u001b[0m tensor_C\u001b[39m=\u001b[39mtorch\u001b[39m.\u001b[39mrand(\u001b[39m4\u001b[39m,\u001b[39m5\u001b[39m)\n\u001b[0;32m      <a href='vscode-notebook-cell:/c%3A/Zmyfiles/codes/CODES/CODES/pytorchZTM_course_codes/introductions/fundamentals.ipynb#X21sZmlsZQ%3D%3D?line=1'>2</a>\u001b[0m tensor_D\u001b[39m=\u001b[39mtorch\u001b[39m.\u001b[39mrand(\u001b[39m4\u001b[39m,\u001b[39m5\u001b[39m)\n\u001b[1;32m----> <a href='vscode-notebook-cell:/c%3A/Zmyfiles/codes/CODES/CODES/pytorchZTM_course_codes/introductions/fundamentals.ipynb#X21sZmlsZQ%3D%3D?line=2'>3</a>\u001b[0m Mul1\u001b[39m=\u001b[39mtorch\u001b[39m.\u001b[39;49mmm(tensor_C,tensor_D)\n",
      "\u001b[1;31mRuntimeError\u001b[0m: mat1 and mat2 shapes cannot be multiplied (4x5 and 4x5)"
     ]
    }
   ],
   "source": [
    "tensor_C=torch.rand(4,5)\n",
    "tensor_D=torch.rand(4,5)\n",
    "Mul1=torch.mm(tensor_C,tensor_D)"
   ]
  },
  {
   "cell_type": "markdown",
   "metadata": {},
   "source": [
    "Change the shape of one tensor using a \n",
    "#### transpose: Switches the axes or dimensions of given tensor"
   ]
  },
  {
   "cell_type": "code",
   "execution_count": 35,
   "metadata": {},
   "outputs": [],
   "source": [
    "Mul1=torch.mm(tensor_C,tensor_D.T) ##the second tensor has been transposed"
   ]
  }
 ],
 "metadata": {
  "kernelspec": {
   "display_name": "SheliaWorkspace",
   "language": "python",
   "name": "python3"
  },
  "language_info": {
   "codemirror_mode": {
    "name": "ipython",
    "version": 3
   },
   "file_extension": ".py",
   "mimetype": "text/x-python",
   "name": "python",
   "nbconvert_exporter": "python",
   "pygments_lexer": "ipython3",
   "version": "3.10.9"
  },
  "orig_nbformat": 4
 },
 "nbformat": 4,
 "nbformat_minor": 2
}
