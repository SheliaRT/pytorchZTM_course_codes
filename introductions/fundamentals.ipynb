{
 "cells": [
  {
   "cell_type": "code",
   "execution_count": 12,
   "metadata": {},
   "outputs": [],
   "source": [
    "import torch\n",
    "import pandas as pd\n",
    "import numpy as np\n",
    "import matplotlib.pyplot as plt\n"
   ]
  },
  {
   "attachments": {},
   "cell_type": "markdown",
   "metadata": {},
   "source": [
    "torch.tensors \n",
    "read through : https://pytorch.org/docs/stable/tensors.html"
   ]
  },
  {
   "cell_type": "code",
   "execution_count": 13,
   "metadata": {},
   "outputs": [
    {
     "data": {
      "text/plain": [
       "10"
      ]
     },
     "execution_count": 13,
     "metadata": {},
     "output_type": "execute_result"
    }
   ],
   "source": [
    "#scalar,0 dim tensor\n",
    "scalar=torch.tensor(10)\n",
    "scalar\n",
    "scalar.ndim\n",
    "\n",
    "#get tensor back as int\n",
    "scalar.item()"
   ]
  },
  {
   "cell_type": "code",
   "execution_count": 14,
   "metadata": {},
   "outputs": [
    {
     "data": {
      "text/plain": [
       "torch.Size([2])"
      ]
     },
     "execution_count": 14,
     "metadata": {},
     "output_type": "execute_result"
    }
   ],
   "source": [
    "#vector\n",
    "vector=torch.tensor([5,7])\n",
    "vector.ndim\n",
    "vector.shape"
   ]
  },
  {
   "cell_type": "code",
   "execution_count": 15,
   "metadata": {},
   "outputs": [
    {
     "data": {
      "text/plain": [
       "2"
      ]
     },
     "execution_count": 15,
     "metadata": {},
     "output_type": "execute_result"
    }
   ],
   "source": [
    "#matrix\n",
    "matrix=torch.tensor([[3,4]\n",
    "                     ,[7,8]])\n",
    "matrix\n",
    "matrix.shape\n",
    "matrix.ndim"
   ]
  },
  {
   "cell_type": "code",
   "execution_count": 16,
   "metadata": {},
   "outputs": [
    {
     "data": {
      "text/plain": [
       "torch.Size([2, 2, 3])"
      ]
     },
     "execution_count": 16,
     "metadata": {},
     "output_type": "execute_result"
    }
   ],
   "source": [
    "#tensor\n",
    "tensor1=torch.tensor([[[1,2,3],[3,2,1]],[[4,5,6],[6,5,4]]])\n",
    "tensor1\n",
    "tensor1.ndim\n",
    "tensor1.shape\n"
   ]
  },
  {
   "attachments": {},
   "cell_type": "markdown",
   "metadata": {},
   "source": [
    "### Random Tensors\n"
   ]
  },
  {
   "cell_type": "code",
   "execution_count": 17,
   "metadata": {},
   "outputs": [
    {
     "data": {
      "text/plain": [
       "tensor([[0.7875, 0.1419, 0.7030, 0.4424],\n",
       "        [0.2894, 0.9262, 0.5484, 0.4520],\n",
       "        [0.3291, 0.5868, 0.6282, 0.7922]])"
      ]
     },
     "execution_count": 17,
     "metadata": {},
     "output_type": "execute_result"
    }
   ],
   "source": [
    "random_tensor=torch.rand(3,4)\n",
    "random_tensor"
   ]
  },
  {
   "attachments": {},
   "cell_type": "markdown",
   "metadata": {},
   "source": [
    "### Zeros and Ones"
   ]
  },
  {
   "cell_type": "code",
   "execution_count": 18,
   "metadata": {},
   "outputs": [
    {
     "data": {
      "text/plain": [
       "tensor([[1., 1., 1., 1.],\n",
       "        [1., 1., 1., 1.],\n",
       "        [1., 1., 1., 1.]])"
      ]
     },
     "execution_count": 18,
     "metadata": {},
     "output_type": "execute_result"
    }
   ],
   "source": [
    "random_zeros=torch.zeros(size=(3,4))\n",
    "random_zeros\n",
    "random_ones=torch.ones(size=(3,4))\n",
    "random_ones"
   ]
  },
  {
   "attachments": {},
   "cell_type": "markdown",
   "metadata": {},
   "source": [
    "### Range of tensors"
   ]
  },
  {
   "cell_type": "code",
   "execution_count": 19,
   "metadata": {},
   "outputs": [
    {
     "data": {
      "text/plain": [
       "tensor([0, 0, 0, 0, 0, 0, 0, 0, 0, 0])"
      ]
     },
     "execution_count": 19,
     "metadata": {},
     "output_type": "execute_result"
    }
   ],
   "source": [
    "tensor_range=torch.arange(start=1,end=50,step=5)\n",
    "tensor_range\n",
    "tensor_like=torch.zeros_like(tensor_range)\n",
    "tensor_like"
   ]
  },
  {
   "cell_type": "code",
   "execution_count": 20,
   "metadata": {},
   "outputs": [
    {
     "data": {
      "text/plain": [
       "tensor([[0.4169, 0.4574, 0.5332, 0.9560, 0.8677],\n",
       "        [0.5773, 0.2185, 0.6000, 0.6868, 0.9732],\n",
       "        [0.1550, 0.3824, 0.8111, 0.4653, 0.2410],\n",
       "        [0.4811, 0.8335, 0.3370, 0.6923, 0.3131]])"
      ]
     },
     "execution_count": 20,
     "metadata": {},
     "output_type": "execute_result"
    }
   ],
   "source": [
    "some_tensor=torch.rand(4,5)\n",
    "some_tensor"
   ]
  },
  {
   "cell_type": "markdown",
   "metadata": {},
   "source": [
    "### Tensor Multiplication"
   ]
  },
  {
   "cell_type": "code",
   "execution_count": 21,
   "metadata": {},
   "outputs": [
    {
     "data": {
      "text/plain": [
       "tensor([[1.2286, 1.0775, 0.7178, 1.3448, 1.1654],\n",
       "        [1.4149, 1.5206, 0.9965, 1.5610, 1.1977],\n",
       "        [0.8801, 0.8899, 0.9855, 1.0707, 0.3613],\n",
       "        [1.2220, 1.4939, 1.1527, 1.8801, 1.0443]])"
      ]
     },
     "execution_count": 21,
     "metadata": {},
     "output_type": "execute_result"
    }
   ],
   "source": [
    "tensor_A=torch.rand(4,5)\n",
    "tensor_B=torch.rand(5,5)\n",
    "##Mul1=torch.matmul(tensor_A,tensor_B)\n",
    "Mul1=torch.mm(tensor_A,tensor_B)\n",
    "Mul1"
   ]
  },
  {
   "cell_type": "code",
   "execution_count": 22,
   "metadata": {},
   "outputs": [
    {
     "ename": "RuntimeError",
     "evalue": "mat1 and mat2 shapes cannot be multiplied (4x5 and 4x5)",
     "output_type": "error",
     "traceback": [
      "\u001b[0;31m---------------------------------------------------------------------------\u001b[0m",
      "\u001b[0;31mRuntimeError\u001b[0m                              Traceback (most recent call last)",
      "\u001b[1;32m/home/shelia/AllFiles/Code_Practice/ZTM_Course/introductions/fundamentals.ipynb Cell 16\u001b[0m line \u001b[0;36m3\n\u001b[1;32m      <a href='vscode-notebook-cell:/home/shelia/AllFiles/Code_Practice/ZTM_Course/introductions/fundamentals.ipynb#X21sZmlsZQ%3D%3D?line=0'>1</a>\u001b[0m tensor_C\u001b[39m=\u001b[39mtorch\u001b[39m.\u001b[39mrand(\u001b[39m4\u001b[39m,\u001b[39m5\u001b[39m)\n\u001b[1;32m      <a href='vscode-notebook-cell:/home/shelia/AllFiles/Code_Practice/ZTM_Course/introductions/fundamentals.ipynb#X21sZmlsZQ%3D%3D?line=1'>2</a>\u001b[0m tensor_D\u001b[39m=\u001b[39mtorch\u001b[39m.\u001b[39mrand(\u001b[39m4\u001b[39m,\u001b[39m5\u001b[39m)\n\u001b[0;32m----> <a href='vscode-notebook-cell:/home/shelia/AllFiles/Code_Practice/ZTM_Course/introductions/fundamentals.ipynb#X21sZmlsZQ%3D%3D?line=2'>3</a>\u001b[0m Mul1\u001b[39m=\u001b[39mtorch\u001b[39m.\u001b[39;49mmm(tensor_C,tensor_D)\n",
      "\u001b[0;31mRuntimeError\u001b[0m: mat1 and mat2 shapes cannot be multiplied (4x5 and 4x5)"
     ]
    }
   ],
   "source": [
    "tensor_C=torch.rand(4,5)\n",
    "tensor_D=torch.rand(4,5)\n",
    "Mul1=torch.mm(tensor_C,tensor_D)"
   ]
  },
  {
   "cell_type": "markdown",
   "metadata": {},
   "source": [
    "Change the shape of one tensor using a \n",
    "#### transpose: Switches the axes or dimensions of given tensor"
   ]
  },
  {
   "cell_type": "code",
   "execution_count": 24,
   "metadata": {},
   "outputs": [
    {
     "data": {
      "text/plain": [
       "tensor([[1.1479, 0.9780, 1.6141, 0.7811],\n",
       "        [1.1076, 1.5403, 1.9076, 1.0423],\n",
       "        [0.6586, 0.5466, 0.9555, 0.4767],\n",
       "        [0.8429, 1.0602, 1.4900, 0.8812]])"
      ]
     },
     "execution_count": 24,
     "metadata": {},
     "output_type": "execute_result"
    }
   ],
   "source": [
    "Mul1=torch.mm(tensor_C,tensor_D.T) ##the second tensor has been transposed\n",
    "Mul1"
   ]
  },
  {
   "cell_type": "code",
   "execution_count": 26,
   "metadata": {},
   "outputs": [
    {
     "data": {
      "text/plain": [
       "(torch.Size([4, 5]), torch.Size([4, 5]))"
      ]
     },
     "execution_count": 26,
     "metadata": {},
     "output_type": "execute_result"
    }
   ],
   "source": [
    "tensor_C.shape, tensor_C.size()"
   ]
  },
  {
   "cell_type": "markdown",
   "metadata": {},
   "source": [
    "### Min, Max and Median of a Tensor"
   ]
  },
  {
   "cell_type": "code",
   "execution_count": null,
   "metadata": {},
   "outputs": [],
   "source": [
    "##min\n",
    "torch.min(tensor_A),tensor_A.min()\n",
    "\n",
    "##max\n",
    "torch.max(tensor_A),tensor_A.max()\n",
    "\n",
    "## mean: the mean() function requires the tensor to be float32 datatype\n",
    "torch.mean(tensor_A.type(torch.float32)), (tensor_A.type(torch.float32)).mean()\n",
    "\n",
    "## finding positional min or max\n",
    "tensor_A.argmin(), tensor_A.argmax()\n"
   ]
  },
  {
   "cell_type": "markdown",
   "metadata": {},
   "source": [
    "### Reshaping, Viewing, Stacking\n",
    "<u>Reshaping</u>: reshape reshapes an input tensor to a defined shape.<br>\n",
    "<u>Viewing</u> :shows a view of an input tensor of a certain shape, but keep the same memory as the original tensor.<br>\n",
    "<u>Stacking</u>: combining multiple tensors on top of each other(vstack) or side by side (hstack) or just stack with a dim<br>\n"
   ]
  },
  {
   "cell_type": "code",
   "execution_count": 35,
   "metadata": {},
   "outputs": [
    {
     "data": {
      "text/plain": [
       "tensor([[2.9666e-01, 4.3348e-01, 2.1505e-01, 8.4330e-01, 6.2450e-01],\n",
       "        [4.3419e-01, 9.0635e-01, 5.5143e-01, 4.4250e-01, 4.3347e-01],\n",
       "        [7.5310e-04, 1.1161e-01, 8.1804e-01, 2.3401e-02, 7.1167e-01],\n",
       "        [5.2761e-01, 4.7561e-01, 6.7226e-01, 1.9879e-01, 9.7664e-01]])"
      ]
     },
     "execution_count": 35,
     "metadata": {},
     "output_type": "execute_result"
    }
   ],
   "source": [
    "tensor_A.reshape(5,4)\n",
    "\n",
    "tensor_x=tensor_A\n",
    "z=tensor_x.view(4,5)\n",
    "z\n"
   ]
  },
  {
   "cell_type": "code",
   "execution_count": 41,
   "metadata": {},
   "outputs": [
    {
     "data": {
      "text/plain": [
       "(tensor([[1, 2, 3, 4, 5, 6, 7, 8],\n",
       "         [1, 2, 3, 4, 5, 6, 7, 8],\n",
       "         [1, 2, 3, 4, 5, 6, 7, 8]]),\n",
       " tensor([[1, 1, 1],\n",
       "         [2, 2, 2],\n",
       "         [3, 3, 3],\n",
       "         [4, 4, 4],\n",
       "         [5, 5, 5],\n",
       "         [6, 6, 6],\n",
       "         [7, 7, 7],\n",
       "         [8, 8, 8]]))"
      ]
     },
     "execution_count": 41,
     "metadata": {},
     "output_type": "execute_result"
    }
   ],
   "source": [
    "tensor_y=torch.arange(1,9)\n",
    "## tensor([1, 2, 3, 4, 5, 6, 7, 8])\n",
    "\n",
    "tensor_y_stacked_ver=torch.stack([tensor_y,tensor_y,tensor_y], dim=0)\n",
    "tensor_y_stacked_hor=torch.stack([tensor_y,tensor_y,tensor_y], dim=1)\n",
    "tensor_y_stacked_ver, tensor_y_stacked_hor\n",
    "\n"
   ]
  },
  {
   "cell_type": "markdown",
   "metadata": {},
   "source": [
    "### Squeezing, Unsqueezing, Permute\n",
    "<u>Squeezing</u>: Removes all '1' dimensions from tensor<br>\n",
    "<u>unsquuezing</u>: add a '1' dimension to the tensor<br>\n",
    "<u>Permute</u>: which return a view of the input with dimensions permuted(swapped) in a certain way."
   ]
  }
 ],
 "metadata": {
  "kernelspec": {
   "display_name": "SheliaWorkspace",
   "language": "python",
   "name": "python3"
  },
  "language_info": {
   "codemirror_mode": {
    "name": "ipython",
    "version": 3
   },
   "file_extension": ".py",
   "mimetype": "text/x-python",
   "name": "python",
   "nbconvert_exporter": "python",
   "pygments_lexer": "ipython3",
   "version": "3.9.16"
  },
  "orig_nbformat": 4
 },
 "nbformat": 4,
 "nbformat_minor": 2
}
