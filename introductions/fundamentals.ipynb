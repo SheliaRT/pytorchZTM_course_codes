{
 "cells": [
  {
   "cell_type": "code",
   "execution_count": 2,
   "metadata": {},
   "outputs": [
    {
     "name": "stderr",
     "output_type": "stream",
     "text": [
      "c:\\Users\\sheli\\anaconda3\\envs\\SheliaWorkspace\\lib\\site-packages\\tqdm\\auto.py:22: TqdmWarning: IProgress not found. Please update jupyter and ipywidgets. See https://ipywidgets.readthedocs.io/en/stable/user_install.html\n",
      "  from .autonotebook import tqdm as notebook_tqdm\n"
     ]
    }
   ],
   "source": [
    "import torch\n",
    "import pandas as pd\n",
    "import numpy as np\n",
    "import matplotlib.pyplot as plt\n"
   ]
  },
  {
   "attachments": {},
   "cell_type": "markdown",
   "metadata": {},
   "source": [
    "torch.tensors \n",
    "read through : https://pytorch.org/docs/stable/tensors.html"
   ]
  },
  {
   "cell_type": "code",
   "execution_count": 3,
   "metadata": {},
   "outputs": [
    {
     "data": {
      "text/plain": [
       "10"
      ]
     },
     "execution_count": 3,
     "metadata": {},
     "output_type": "execute_result"
    }
   ],
   "source": [
    "#scalar,0 dim tensor\n",
    "scalar=torch.tensor(10)\n",
    "scalar\n",
    "scalar.ndim\n",
    "\n",
    "#get tensor back as int\n",
    "scalar.item()"
   ]
  },
  {
   "cell_type": "code",
   "execution_count": 4,
   "metadata": {},
   "outputs": [
    {
     "data": {
      "text/plain": [
       "torch.Size([2])"
      ]
     },
     "execution_count": 4,
     "metadata": {},
     "output_type": "execute_result"
    }
   ],
   "source": [
    "#vector\n",
    "vector=torch.tensor([5,7])\n",
    "vector.ndim\n",
    "vector.shape"
   ]
  },
  {
   "cell_type": "code",
   "execution_count": 5,
   "metadata": {},
   "outputs": [
    {
     "data": {
      "text/plain": [
       "2"
      ]
     },
     "execution_count": 5,
     "metadata": {},
     "output_type": "execute_result"
    }
   ],
   "source": [
    "#matrix\n",
    "matrix=torch.tensor([[3,4]\n",
    "                     ,[7,8]])\n",
    "matrix\n",
    "matrix.shape\n",
    "matrix.ndim"
   ]
  },
  {
   "cell_type": "code",
   "execution_count": 6,
   "metadata": {},
   "outputs": [
    {
     "data": {
      "text/plain": [
       "torch.Size([2, 2, 3])"
      ]
     },
     "execution_count": 6,
     "metadata": {},
     "output_type": "execute_result"
    }
   ],
   "source": [
    "#tensor\n",
    "tensor1=torch.tensor([[[1,2,3],[3,2,1]],[[4,5,6],[6,5,4]]])\n",
    "tensor1\n",
    "tensor1.ndim\n",
    "tensor1.shape\n"
   ]
  },
  {
   "attachments": {},
   "cell_type": "markdown",
   "metadata": {},
   "source": [
    "### Random Tensors\n"
   ]
  },
  {
   "cell_type": "code",
   "execution_count": 7,
   "metadata": {},
   "outputs": [
    {
     "data": {
      "text/plain": [
       "tensor([[0.5153, 0.1714, 0.3254, 0.2632],\n",
       "        [0.6155, 0.2657, 0.9826, 0.1269],\n",
       "        [0.0093, 0.1921, 0.6494, 0.1344]])"
      ]
     },
     "execution_count": 7,
     "metadata": {},
     "output_type": "execute_result"
    }
   ],
   "source": [
    "random_tensor=torch.rand(3,4)\n",
    "random_tensor"
   ]
  },
  {
   "attachments": {},
   "cell_type": "markdown",
   "metadata": {},
   "source": [
    "### Zeros and Ones"
   ]
  },
  {
   "cell_type": "code",
   "execution_count": 8,
   "metadata": {},
   "outputs": [
    {
     "data": {
      "text/plain": [
       "tensor([[1., 1., 1., 1.],\n",
       "        [1., 1., 1., 1.],\n",
       "        [1., 1., 1., 1.]])"
      ]
     },
     "execution_count": 8,
     "metadata": {},
     "output_type": "execute_result"
    }
   ],
   "source": [
    "random_zeros=torch.zeros(size=(3,4))\n",
    "random_zeros\n",
    "random_ones=torch.ones(size=(3,4))\n",
    "random_ones"
   ]
  },
  {
   "attachments": {},
   "cell_type": "markdown",
   "metadata": {},
   "source": [
    "### Range of tensors"
   ]
  },
  {
   "cell_type": "code",
   "execution_count": 9,
   "metadata": {},
   "outputs": [
    {
     "data": {
      "text/plain": [
       "tensor([0, 0, 0, 0, 0, 0, 0, 0, 0, 0])"
      ]
     },
     "execution_count": 9,
     "metadata": {},
     "output_type": "execute_result"
    }
   ],
   "source": [
    "tensor_range=torch.arange(start=1,end=50,step=5)\n",
    "tensor_range\n",
    "tensor_like=torch.zeros_like(tensor_range)\n",
    "tensor_like"
   ]
  },
  {
   "cell_type": "code",
   "execution_count": 10,
   "metadata": {},
   "outputs": [
    {
     "data": {
      "text/plain": [
       "tensor([[0.3611, 0.0679, 0.4882, 0.3414, 0.9158],\n",
       "        [0.0499, 0.8925, 0.4473, 0.6803, 0.5886],\n",
       "        [0.8541, 0.8887, 0.1628, 0.6773, 0.7128],\n",
       "        [0.1091, 0.6099, 0.7653, 0.6368, 0.5863]])"
      ]
     },
     "execution_count": 10,
     "metadata": {},
     "output_type": "execute_result"
    }
   ],
   "source": [
    "some_tensor=torch.rand(4,5)\n",
    "some_tensor"
   ]
  },
  {
   "cell_type": "markdown",
   "metadata": {},
   "source": [
    "### Tensor Multiplication"
   ]
  },
  {
   "cell_type": "code",
   "execution_count": 11,
   "metadata": {},
   "outputs": [
    {
     "data": {
      "text/plain": [
       "tensor([[1.3327, 1.9264, 1.3203, 1.0502, 1.9139],\n",
       "        [1.6449, 1.9167, 1.1783, 0.9978, 1.2848],\n",
       "        [1.6009, 1.5450, 1.4517, 1.3133, 1.8405],\n",
       "        [1.6592, 1.9318, 1.2242, 1.0359, 1.2831]])"
      ]
     },
     "execution_count": 11,
     "metadata": {},
     "output_type": "execute_result"
    }
   ],
   "source": [
    "tensor_A=torch.rand(4,5)\n",
    "tensor_B=torch.rand(5,5)\n",
    "##Mul1=torch.matmul(tensor_A,tensor_B)\n",
    "Mul1=torch.mm(tensor_A,tensor_B)\n",
    "Mul1"
   ]
  },
  {
   "cell_type": "code",
   "execution_count": 12,
   "metadata": {},
   "outputs": [
    {
     "ename": "RuntimeError",
     "evalue": "mat1 and mat2 shapes cannot be multiplied (4x5 and 4x5)",
     "output_type": "error",
     "traceback": [
      "\u001b[1;31m---------------------------------------------------------------------------\u001b[0m",
      "\u001b[1;31mRuntimeError\u001b[0m                              Traceback (most recent call last)",
      "\u001b[1;32mc:\\Zmyfiles\\codes\\CODES\\CODES\\pytorchZTM_course_codes\\introductions\\fundamentals.ipynb Cell 16\u001b[0m line \u001b[0;36m3\n\u001b[0;32m      <a href='vscode-notebook-cell:/c%3A/Zmyfiles/codes/CODES/CODES/pytorchZTM_course_codes/introductions/fundamentals.ipynb#X21sZmlsZQ%3D%3D?line=0'>1</a>\u001b[0m tensor_C\u001b[39m=\u001b[39mtorch\u001b[39m.\u001b[39mrand(\u001b[39m4\u001b[39m,\u001b[39m5\u001b[39m)\n\u001b[0;32m      <a href='vscode-notebook-cell:/c%3A/Zmyfiles/codes/CODES/CODES/pytorchZTM_course_codes/introductions/fundamentals.ipynb#X21sZmlsZQ%3D%3D?line=1'>2</a>\u001b[0m tensor_D\u001b[39m=\u001b[39mtorch\u001b[39m.\u001b[39mrand(\u001b[39m4\u001b[39m,\u001b[39m5\u001b[39m)\n\u001b[1;32m----> <a href='vscode-notebook-cell:/c%3A/Zmyfiles/codes/CODES/CODES/pytorchZTM_course_codes/introductions/fundamentals.ipynb#X21sZmlsZQ%3D%3D?line=2'>3</a>\u001b[0m Mul1\u001b[39m=\u001b[39mtorch\u001b[39m.\u001b[39;49mmm(tensor_C,tensor_D)\n",
      "\u001b[1;31mRuntimeError\u001b[0m: mat1 and mat2 shapes cannot be multiplied (4x5 and 4x5)"
     ]
    }
   ],
   "source": [
    "tensor_C=torch.rand(4,5)\n",
    "tensor_D=torch.rand(4,5)\n",
    "Mul1=torch.mm(tensor_C,tensor_D)"
   ]
  },
  {
   "cell_type": "markdown",
   "metadata": {},
   "source": [
    "Change the shape of one tensor using a \n",
    "#### transpose: Switches the axes or dimensions of given tensor"
   ]
  },
  {
   "cell_type": "code",
   "execution_count": null,
   "metadata": {},
   "outputs": [
    {
     "ename": "NameError",
     "evalue": "name 'torch' is not defined",
     "output_type": "error",
     "traceback": [
      "\u001b[1;31m---------------------------------------------------------------------------\u001b[0m",
      "\u001b[1;31mNameError\u001b[0m                                 Traceback (most recent call last)",
      "\u001b[1;32mc:\\Zmyfiles\\codes\\CODES\\CODES\\pytorchZTM_course_codes\\introductions\\fundamentals.ipynb Cell 18\u001b[0m line \u001b[0;36m1\n\u001b[1;32m----> <a href='vscode-notebook-cell:/c%3A/Zmyfiles/codes/CODES/CODES/pytorchZTM_course_codes/introductions/fundamentals.ipynb#X23sZmlsZQ%3D%3D?line=0'>1</a>\u001b[0m Mul1\u001b[39m=\u001b[39mtorch\u001b[39m.\u001b[39mmm(tensor_C,tensor_D\u001b[39m.\u001b[39mT)\n",
      "\u001b[1;31mNameError\u001b[0m: name 'torch' is not defined"
     ]
    }
   ],
   "source": [
    "Mul1=torch.mm(tensor_C,tensor_D.T) ##the second tensor has been transposed"
   ]
  }
 ],
 "metadata": {
  "kernelspec": {
   "display_name": "SheliaWorkspace",
   "language": "python",
   "name": "python3"
  },
  "language_info": {
   "codemirror_mode": {
    "name": "ipython",
    "version": 3
   },
   "file_extension": ".py",
   "mimetype": "text/x-python",
   "name": "python",
   "nbconvert_exporter": "python",
   "pygments_lexer": "ipython3",
   "version": "3.10.9"
  },
  "orig_nbformat": 4
 },
 "nbformat": 4,
 "nbformat_minor": 2
}
