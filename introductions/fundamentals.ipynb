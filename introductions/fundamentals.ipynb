{
 "cells": [
  {
   "cell_type": "code",
   "execution_count": 2,
   "metadata": {},
   "outputs": [
    {
     "name": "stderr",
     "output_type": "stream",
     "text": [
      "/home/shelia/anaconda3/envs/tf-gpu/lib/python3.9/site-packages/tqdm/auto.py:22: TqdmWarning: IProgress not found. Please update jupyter and ipywidgets. See https://ipywidgets.readthedocs.io/en/stable/user_install.html\n",
      "  from .autonotebook import tqdm as notebook_tqdm\n"
     ]
    }
   ],
   "source": [
    "import torch\n",
    "import pandas as pd\n",
    "import numpy as np\n",
    "import matplotlib.pyplot as plt\n"
   ]
  },
  {
   "attachments": {},
   "cell_type": "markdown",
   "metadata": {},
   "source": [
    "torch.tensors \n",
    "read through : https://pytorch.org/docs/stable/tensors.html"
   ]
  },
  {
   "cell_type": "code",
   "execution_count": 3,
   "metadata": {},
   "outputs": [
    {
     "data": {
      "text/plain": [
       "10"
      ]
     },
     "execution_count": 3,
     "metadata": {},
     "output_type": "execute_result"
    }
   ],
   "source": [
    "#scalar,0 dim tensor\n",
    "scalar=torch.tensor(10)\n",
    "scalar\n",
    "scalar.ndim\n",
    "\n",
    "#get tensor back as int\n",
    "scalar.item()"
   ]
  },
  {
   "cell_type": "code",
   "execution_count": 4,
   "metadata": {},
   "outputs": [
    {
     "data": {
      "text/plain": [
       "torch.Size([2])"
      ]
     },
     "execution_count": 4,
     "metadata": {},
     "output_type": "execute_result"
    }
   ],
   "source": [
    "#vector\n",
    "vector=torch.tensor([5,7])\n",
    "vector.ndim\n",
    "vector.shape"
   ]
  },
  {
   "cell_type": "code",
   "execution_count": 5,
   "metadata": {},
   "outputs": [
    {
     "data": {
      "text/plain": [
       "2"
      ]
     },
     "execution_count": 5,
     "metadata": {},
     "output_type": "execute_result"
    }
   ],
   "source": [
    "#matrix\n",
    "matrix=torch.tensor([[3,4]\n",
    "                     ,[7,8]])\n",
    "matrix\n",
    "matrix.shape\n",
    "matrix.ndim"
   ]
  },
  {
   "cell_type": "code",
   "execution_count": 6,
   "metadata": {},
   "outputs": [
    {
     "data": {
      "text/plain": [
       "torch.Size([2, 2, 3])"
      ]
     },
     "execution_count": 6,
     "metadata": {},
     "output_type": "execute_result"
    }
   ],
   "source": [
    "#tensor\n",
    "tensor1=torch.tensor([[[1,2,3],[3,2,1]],[[4,5,6],[6,5,4]]])\n",
    "tensor1\n",
    "tensor1.ndim\n",
    "tensor1.shape\n"
   ]
  },
  {
   "attachments": {},
   "cell_type": "markdown",
   "metadata": {},
   "source": [
    "### Random Tensors\n"
   ]
  },
  {
   "cell_type": "code",
   "execution_count": 7,
   "metadata": {},
   "outputs": [
    {
     "data": {
      "text/plain": [
       "tensor([[0.0735, 0.5254, 0.4590, 0.4699],\n",
       "        [0.4762, 0.9943, 0.8366, 0.9299],\n",
       "        [0.9905, 0.7957, 0.7278, 0.6078]])"
      ]
     },
     "execution_count": 7,
     "metadata": {},
     "output_type": "execute_result"
    }
   ],
   "source": [
    "random_tensor=torch.rand(3,4)\n",
    "random_tensor"
   ]
  },
  {
   "attachments": {},
   "cell_type": "markdown",
   "metadata": {},
   "source": [
    "### Zeros and Ones"
   ]
  },
  {
   "cell_type": "code",
   "execution_count": 8,
   "metadata": {},
   "outputs": [
    {
     "data": {
      "text/plain": [
       "tensor([[1., 1., 1., 1.],\n",
       "        [1., 1., 1., 1.],\n",
       "        [1., 1., 1., 1.]])"
      ]
     },
     "execution_count": 8,
     "metadata": {},
     "output_type": "execute_result"
    }
   ],
   "source": [
    "random_zeros=torch.zeros(size=(3,4))\n",
    "random_zeros\n",
    "random_ones=torch.ones(size=(3,4))\n",
    "random_ones"
   ]
  },
  {
   "attachments": {},
   "cell_type": "markdown",
   "metadata": {},
   "source": [
    "### Range of tensors"
   ]
  },
  {
   "cell_type": "code",
   "execution_count": 9,
   "metadata": {},
   "outputs": [
    {
     "data": {
      "text/plain": [
       "tensor([0, 0, 0, 0, 0, 0, 0, 0, 0, 0])"
      ]
     },
     "execution_count": 9,
     "metadata": {},
     "output_type": "execute_result"
    }
   ],
   "source": [
    "tensor_range=torch.arange(start=1,end=50,step=5)\n",
    "tensor_range\n",
    "tensor_like=torch.zeros_like(tensor_range)\n",
    "tensor_like"
   ]
  },
  {
   "cell_type": "code",
   "execution_count": 10,
   "metadata": {},
   "outputs": [
    {
     "data": {
      "text/plain": [
       "tensor([[0.2694, 0.6825, 0.4186, 0.1738, 0.1353],\n",
       "        [0.7373, 0.5876, 0.9439, 0.6510, 0.5909],\n",
       "        [0.7615, 0.6051, 0.0717, 0.6901, 0.3604],\n",
       "        [0.3471, 0.2269, 0.0903, 0.8551, 0.5453]])"
      ]
     },
     "execution_count": 10,
     "metadata": {},
     "output_type": "execute_result"
    }
   ],
   "source": [
    "some_tensor=torch.rand(4,5)\n",
    "some_tensor"
   ]
  },
  {
   "cell_type": "markdown",
   "metadata": {},
   "source": [
    "### Tensor Multiplication"
   ]
  },
  {
   "cell_type": "code",
   "execution_count": 11,
   "metadata": {},
   "outputs": [
    {
     "data": {
      "text/plain": [
       "tensor([[0.3261, 2.1314, 1.5827, 1.2192, 1.8822],\n",
       "        [0.7910, 2.4458, 1.7543, 1.3632, 1.6237],\n",
       "        [0.1280, 1.5130, 1.1849, 1.0087, 1.2724],\n",
       "        [0.5953, 1.2649, 0.8851, 0.6613, 0.5514]])"
      ]
     },
     "execution_count": 11,
     "metadata": {},
     "output_type": "execute_result"
    }
   ],
   "source": [
    "tensor_A=torch.rand(4,5)\n",
    "tensor_B=torch.rand(5,5)\n",
    "##Mul1=torch.matmul(tensor_A,tensor_B)\n",
    "Mul1=torch.mm(tensor_A,tensor_B)\n",
    "Mul1"
   ]
  },
  {
   "cell_type": "code",
   "execution_count": 12,
   "metadata": {},
   "outputs": [
    {
     "ename": "RuntimeError",
     "evalue": "mat1 and mat2 shapes cannot be multiplied (4x5 and 4x5)",
     "output_type": "error",
     "traceback": [
      "\u001b[0;31m---------------------------------------------------------------------------\u001b[0m",
      "\u001b[0;31mRuntimeError\u001b[0m                              Traceback (most recent call last)",
      "\u001b[1;32m/home/shelia/AllFiles/Code_Practice/ZTM_Course/introductions/fundamentals.ipynb Cell 16\u001b[0m line \u001b[0;36m3\n\u001b[1;32m      <a href='vscode-notebook-cell:/home/shelia/AllFiles/Code_Practice/ZTM_Course/introductions/fundamentals.ipynb#X21sZmlsZQ%3D%3D?line=0'>1</a>\u001b[0m tensor_C\u001b[39m=\u001b[39mtorch\u001b[39m.\u001b[39mrand(\u001b[39m4\u001b[39m,\u001b[39m5\u001b[39m)\n\u001b[1;32m      <a href='vscode-notebook-cell:/home/shelia/AllFiles/Code_Practice/ZTM_Course/introductions/fundamentals.ipynb#X21sZmlsZQ%3D%3D?line=1'>2</a>\u001b[0m tensor_D\u001b[39m=\u001b[39mtorch\u001b[39m.\u001b[39mrand(\u001b[39m4\u001b[39m,\u001b[39m5\u001b[39m)\n\u001b[0;32m----> <a href='vscode-notebook-cell:/home/shelia/AllFiles/Code_Practice/ZTM_Course/introductions/fundamentals.ipynb#X21sZmlsZQ%3D%3D?line=2'>3</a>\u001b[0m Mul1\u001b[39m=\u001b[39mtorch\u001b[39m.\u001b[39;49mmm(tensor_C,tensor_D)\n",
      "\u001b[0;31mRuntimeError\u001b[0m: mat1 and mat2 shapes cannot be multiplied (4x5 and 4x5)"
     ]
    }
   ],
   "source": [
    "tensor_C=torch.rand(4,5)\n",
    "tensor_D=torch.rand(4,5)\n",
    "Mul1=torch.mm(tensor_C,tensor_D)"
   ]
  },
  {
   "cell_type": "markdown",
   "metadata": {},
   "source": [
    "Change the shape of one tensor using a \n",
    "#### transpose: Switches the axes or dimensions of given tensor"
   ]
  },
  {
   "cell_type": "code",
   "execution_count": 14,
   "metadata": {},
   "outputs": [
    {
     "data": {
      "text/plain": [
       "tensor([[0.7506, 1.4536, 1.0407, 1.5544],\n",
       "        [0.9853, 1.5996, 1.6619, 1.5256],\n",
       "        [1.2127, 2.3342, 1.8268, 2.4787],\n",
       "        [1.0550, 1.9443, 1.2083, 1.8943]])"
      ]
     },
     "execution_count": 14,
     "metadata": {},
     "output_type": "execute_result"
    }
   ],
   "source": [
    "Mul1=torch.mm(tensor_C,tensor_D.T) ##the second tensor has been transposed\n",
    "Mul1"
   ]
  },
  {
   "cell_type": "code",
   "execution_count": 15,
   "metadata": {},
   "outputs": [
    {
     "data": {
      "text/plain": [
       "(torch.Size([4, 5]), torch.Size([4, 5]))"
      ]
     },
     "execution_count": 15,
     "metadata": {},
     "output_type": "execute_result"
    }
   ],
   "source": [
    "tensor_C.shape, tensor_C.size()"
   ]
  },
  {
   "cell_type": "markdown",
   "metadata": {},
   "source": [
    "### Min, Max and Median of a Tensor"
   ]
  },
  {
   "cell_type": "code",
   "execution_count": 16,
   "metadata": {},
   "outputs": [
    {
     "data": {
      "text/plain": [
       "(tensor(15), tensor(1))"
      ]
     },
     "execution_count": 16,
     "metadata": {},
     "output_type": "execute_result"
    }
   ],
   "source": [
    "##min\n",
    "torch.min(tensor_A),tensor_A.min()\n",
    "\n",
    "##max\n",
    "torch.max(tensor_A),tensor_A.max()\n",
    "\n",
    "## mean: the mean() function requires the tensor to be float32 datatype\n",
    "torch.mean(tensor_A.type(torch.float32)), (tensor_A.type(torch.float32)).mean()\n",
    "\n",
    "## finding positional min or max\n",
    "tensor_A.argmin(), tensor_A.argmax()\n"
   ]
  },
  {
   "cell_type": "markdown",
   "metadata": {},
   "source": [
    "### Reshaping, Viewing, Stacking\n",
    "<u>Reshaping</u>: reshape reshapes an input tensor to a defined shape.<br>\n",
    "<u>Viewing</u> :shows a view of an input tensor of a certain shape, but keep the same memory as the original tensor.<br>\n",
    "<u>Stacking</u>: combining multiple tensors on top of each other(vstack) or side by side (hstack) or just stack with a dim<br>\n"
   ]
  },
  {
   "cell_type": "code",
   "execution_count": 17,
   "metadata": {},
   "outputs": [
    {
     "data": {
      "text/plain": [
       "tensor([[0.8329, 0.9941, 0.0680, 0.4634, 0.3855],\n",
       "        [0.3265, 0.7862, 0.7807, 0.8992, 0.5518],\n",
       "        [0.5549, 0.9171, 0.0969, 0.0267, 0.4332],\n",
       "        [0.0119, 0.0640, 0.7372, 0.6067, 0.3909]])"
      ]
     },
     "execution_count": 17,
     "metadata": {},
     "output_type": "execute_result"
    }
   ],
   "source": [
    "tensor_A.reshape(5,4)\n",
    "\n",
    "tensor_x=tensor_A\n",
    "z=tensor_x.view(4,5)\n",
    "z\n"
   ]
  },
  {
   "cell_type": "code",
   "execution_count": 18,
   "metadata": {},
   "outputs": [
    {
     "data": {
      "text/plain": [
       "(tensor([[1, 2, 3, 4, 5, 6, 7, 8],\n",
       "         [1, 2, 3, 4, 5, 6, 7, 8],\n",
       "         [1, 2, 3, 4, 5, 6, 7, 8]]),\n",
       " tensor([[1, 1, 1],\n",
       "         [2, 2, 2],\n",
       "         [3, 3, 3],\n",
       "         [4, 4, 4],\n",
       "         [5, 5, 5],\n",
       "         [6, 6, 6],\n",
       "         [7, 7, 7],\n",
       "         [8, 8, 8]]))"
      ]
     },
     "execution_count": 18,
     "metadata": {},
     "output_type": "execute_result"
    }
   ],
   "source": [
    "tensor_y=torch.arange(1,9)\n",
    "## tensor([1, 2, 3, 4, 5, 6, 7, 8])\n",
    "\n",
    "tensor_y_stacked_ver=torch.stack([tensor_y,tensor_y,tensor_y], dim=0)\n",
    "tensor_y_stacked_hor=torch.stack([tensor_y,tensor_y,tensor_y], dim=1)\n",
    "tensor_y_stacked_ver, tensor_y_stacked_hor\n",
    "\n"
   ]
  },
  {
   "cell_type": "markdown",
   "metadata": {},
   "source": [
    "### Squeezing, Unsqueezing, Permute\n",
    "<u>Squeezing</u>: Removes all '1' dimensions from tensor<br>\n",
    "<u>unsquuezing</u>: add a '1' dimension to the tensor<br>\n",
    "<u>Permute</u>: which return a view of the input with dimensions permuted(swapped) in a certain way."
   ]
  },
  {
   "cell_type": "code",
   "execution_count": 40,
   "metadata": {},
   "outputs": [
    {
     "data": {
      "text/plain": [
       "(torch.Size([2, 2, 1, 2, 1]), torch.Size([2, 1, 2, 1, 2, 1]))"
      ]
     },
     "execution_count": 40,
     "metadata": {},
     "output_type": "execute_result"
    }
   ],
   "source": [
    "tensor_sq=torch.zeros(2,1,2,1,2,1)\n",
    "tensor_sq_s=tensor_sq.squeeze(dim=1) ##changes takes plave to that particular dimension. (o indexed)\n",
    "tensor_sq_u=tensor_sq_s.unsqueeze(dim=1)\n",
    "tensor_sq_s.shape,tensor_sq_u.shape\n"
   ]
  },
  {
   "cell_type": "code",
   "execution_count": 42,
   "metadata": {},
   "outputs": [
    {
     "data": {
      "text/plain": [
       "torch.Size([4, 5, 3])"
      ]
     },
     "execution_count": 42,
     "metadata": {},
     "output_type": "execute_result"
    }
   ],
   "source": [
    "tensor_perm=torch.zeros(5,3,4).permute(2,0,1)\n",
    "tensor_perm.shape"
   ]
  },
  {
   "cell_type": "markdown",
   "metadata": {},
   "source": [
    "### Indexing and Slicing\n",
    "[][]/[,] for indexing of a 2D tensor<br>\n",
    "[: , :] : ',' between dimentions and ':' between the start and end index of a dimension "
   ]
  },
  {
   "cell_type": "code",
   "execution_count": 108,
   "metadata": {},
   "outputs": [
    {
     "data": {
      "text/plain": [
       "tensor([[[0.5490, 0.6883, 0.8428],\n",
       "         [0.0970, 0.2960, 0.3370],\n",
       "         [0.7356, 0.9155, 0.0410],\n",
       "         [0.2296, 0.1162, 0.6674],\n",
       "         [0.7605, 0.7307, 0.5002]],\n",
       "\n",
       "        [[0.7079, 0.2843, 0.6508],\n",
       "         [0.6507, 0.3130, 0.5273],\n",
       "         [0.2369, 0.9118, 0.4946],\n",
       "         [0.8863, 0.5384, 0.3566],\n",
       "         [0.4357, 0.9673, 0.8902]],\n",
       "\n",
       "        [[0.9523, 0.9697, 0.3076],\n",
       "         [0.5298, 0.5272, 0.6091],\n",
       "         [0.1045, 0.4098, 0.6811],\n",
       "         [0.7462, 0.4749, 0.4890],\n",
       "         [0.0684, 0.1168, 0.6923]],\n",
       "\n",
       "        [[0.5395, 0.4400, 0.6795],\n",
       "         [0.5025, 0.5819, 0.0039],\n",
       "         [0.5093, 0.5867, 0.7036],\n",
       "         [0.5387, 0.3805, 0.1363],\n",
       "         [0.6688, 0.7293, 0.1593]]])"
      ]
     },
     "execution_count": 108,
     "metadata": {},
     "output_type": "execute_result"
    }
   ],
   "source": [
    "tensor_index=torch.rand(4,5,3)\n",
    "tensor_index"
   ]
  },
  {
   "cell_type": "code",
   "execution_count": 125,
   "metadata": {},
   "outputs": [
    {
     "data": {
      "text/plain": [
       "(tensor([0.5490, 0.6883, 0.8428]), tensor([[[0.8428]]]))"
      ]
     },
     "execution_count": 125,
     "metadata": {},
     "output_type": "execute_result"
    }
   ],
   "source": [
    "tensor_index[0][0], tensor_index[0:1,0:1,2:3]"
   ]
  }
 ],
 "metadata": {
  "kernelspec": {
   "display_name": "SheliaWorkspace",
   "language": "python",
   "name": "python3"
  },
  "language_info": {
   "codemirror_mode": {
    "name": "ipython",
    "version": 3
   },
   "file_extension": ".py",
   "mimetype": "text/x-python",
   "name": "python",
   "nbconvert_exporter": "python",
   "pygments_lexer": "ipython3",
   "version": "3.9.16"
  },
  "orig_nbformat": 4
 },
 "nbformat": 4,
 "nbformat_minor": 2
}
