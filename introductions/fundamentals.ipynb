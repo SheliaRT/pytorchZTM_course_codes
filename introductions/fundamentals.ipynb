{
 "cells": [
  {
   "cell_type": "code",
   "execution_count": 4,
   "metadata": {},
   "outputs": [],
   "source": [
    "import torch\n",
    "import pandas as pd\n",
    "import numpy as np\n",
    "import matplotlib.pyplot as plt\n"
   ]
  },
  {
   "attachments": {},
   "cell_type": "markdown",
   "metadata": {},
   "source": [
    "torch.tensors \n",
    "read through : https://pytorch.org/docs/stable/tensors.html"
   ]
  },
  {
   "cell_type": "code",
   "execution_count": 5,
   "metadata": {},
   "outputs": [
    {
     "data": {
      "text/plain": [
       "10"
      ]
     },
     "execution_count": 5,
     "metadata": {},
     "output_type": "execute_result"
    }
   ],
   "source": [
    "#scalar,0 dim tensor\n",
    "scalar=torch.tensor(10)\n",
    "scalar\n",
    "scalar.ndim\n",
    "\n",
    "#get tensor back as int\n",
    "scalar.item()"
   ]
  },
  {
   "cell_type": "code",
   "execution_count": 6,
   "metadata": {},
   "outputs": [
    {
     "data": {
      "text/plain": [
       "torch.Size([2])"
      ]
     },
     "execution_count": 6,
     "metadata": {},
     "output_type": "execute_result"
    }
   ],
   "source": [
    "#vector\n",
    "vector=torch.tensor([5,7])\n",
    "vector.ndim\n",
    "vector.shape"
   ]
  },
  {
   "cell_type": "code",
   "execution_count": 7,
   "metadata": {},
   "outputs": [
    {
     "data": {
      "text/plain": [
       "2"
      ]
     },
     "execution_count": 7,
     "metadata": {},
     "output_type": "execute_result"
    }
   ],
   "source": [
    "#matrix\n",
    "matrix=torch.tensor([[3,4]\n",
    "                     ,[7,8]])\n",
    "matrix\n",
    "matrix.shape\n",
    "matrix.ndim"
   ]
  },
  {
   "cell_type": "code",
   "execution_count": 8,
   "metadata": {},
   "outputs": [
    {
     "data": {
      "text/plain": [
       "torch.Size([2, 2, 3])"
      ]
     },
     "execution_count": 8,
     "metadata": {},
     "output_type": "execute_result"
    }
   ],
   "source": [
    "#tensor\n",
    "tensor1=torch.tensor([[[1,2,3],[3,2,1]],[[4,5,6],[6,5,4]]])\n",
    "tensor1\n",
    "tensor1.ndim\n",
    "tensor1.shape\n"
   ]
  },
  {
   "attachments": {},
   "cell_type": "markdown",
   "metadata": {},
   "source": [
    "### Random Tensors\n"
   ]
  },
  {
   "cell_type": "code",
   "execution_count": 9,
   "metadata": {},
   "outputs": [
    {
     "data": {
      "text/plain": [
       "tensor([[0.9444, 0.6710, 0.9983, 0.6860],\n",
       "        [0.0677, 0.1883, 0.3459, 0.2011],\n",
       "        [0.1245, 0.7504, 0.2938, 0.5711]])"
      ]
     },
     "execution_count": 9,
     "metadata": {},
     "output_type": "execute_result"
    }
   ],
   "source": [
    "random_tensor=torch.rand(3,4)\n",
    "random_tensor"
   ]
  },
  {
   "attachments": {},
   "cell_type": "markdown",
   "metadata": {},
   "source": [
    "### Zeros and Ones"
   ]
  },
  {
   "cell_type": "code",
   "execution_count": 10,
   "metadata": {},
   "outputs": [
    {
     "data": {
      "text/plain": [
       "tensor([[1., 1., 1., 1.],\n",
       "        [1., 1., 1., 1.],\n",
       "        [1., 1., 1., 1.]])"
      ]
     },
     "execution_count": 10,
     "metadata": {},
     "output_type": "execute_result"
    }
   ],
   "source": [
    "random_zeros=torch.zeros(size=(3,4))\n",
    "random_zeros\n",
    "random_ones=torch.ones(size=(3,4))\n",
    "random_ones"
   ]
  },
  {
   "attachments": {},
   "cell_type": "markdown",
   "metadata": {},
   "source": [
    "### Range of tensors"
   ]
  },
  {
   "cell_type": "code",
   "execution_count": 11,
   "metadata": {},
   "outputs": [
    {
     "data": {
      "text/plain": [
       "tensor([0, 0, 0, 0, 0, 0, 0, 0, 0, 0])"
      ]
     },
     "execution_count": 11,
     "metadata": {},
     "output_type": "execute_result"
    }
   ],
   "source": [
    "tensor_range=torch.arange(start=1,end=50,step=5)\n",
    "tensor_range\n",
    "tensor_like=torch.zeros_like(tensor_range)\n",
    "tensor_like"
   ]
  },
  {
   "cell_type": "code",
   "execution_count": 12,
   "metadata": {},
   "outputs": [
    {
     "data": {
      "text/plain": [
       "tensor([[0.4125, 0.3438, 0.6834, 0.0798, 0.5489],\n",
       "        [0.9695, 0.6907, 0.4296, 0.2941, 0.9381],\n",
       "        [0.4461, 0.3387, 0.1795, 0.8275, 0.7110],\n",
       "        [0.7142, 0.8640, 0.6502, 0.6544, 0.3058]])"
      ]
     },
     "execution_count": 12,
     "metadata": {},
     "output_type": "execute_result"
    }
   ],
   "source": [
    "some_tensor=torch.rand(4,5)\n",
    "some_tensor"
   ]
  },
  {
   "cell_type": "markdown",
   "metadata": {},
   "source": [
    "### Tensor Multiplication"
   ]
  },
  {
   "cell_type": "code",
   "execution_count": 13,
   "metadata": {},
   "outputs": [
    {
     "data": {
      "text/plain": [
       "tensor([[1.9067, 1.9823, 1.7742, 1.4339, 0.9164],\n",
       "        [0.7818, 0.5653, 0.5612, 0.7187, 0.4238],\n",
       "        [1.0896, 1.4332, 1.3384, 1.2121, 0.4924],\n",
       "        [0.3340, 0.5605, 0.5233, 0.4319, 0.1541]])"
      ]
     },
     "execution_count": 13,
     "metadata": {},
     "output_type": "execute_result"
    }
   ],
   "source": [
    "tensor_A=torch.rand(4,5)\n",
    "tensor_B=torch.rand(5,5)\n",
    "##Mul1=torch.matmul(tensor_A,tensor_B)\n",
    "Mul1=torch.mm(tensor_A,tensor_B)\n",
    "Mul1"
   ]
  },
  {
   "cell_type": "code",
   "execution_count": 14,
   "metadata": {},
   "outputs": [
    {
     "ename": "RuntimeError",
     "evalue": "mat1 and mat2 shapes cannot be multiplied (4x5 and 4x5)",
     "output_type": "error",
     "traceback": [
      "\u001b[0;31m---------------------------------------------------------------------------\u001b[0m",
      "\u001b[0;31mRuntimeError\u001b[0m                              Traceback (most recent call last)",
      "\u001b[1;32m/home/shelia/AllFiles/Code_Practice/ZTM_Course/introductions/fundamentals.ipynb Cell 16\u001b[0m line \u001b[0;36m3\n\u001b[1;32m      <a href='vscode-notebook-cell:/home/shelia/AllFiles/Code_Practice/ZTM_Course/introductions/fundamentals.ipynb#X21sZmlsZQ%3D%3D?line=0'>1</a>\u001b[0m tensor_C\u001b[39m=\u001b[39mtorch\u001b[39m.\u001b[39mrand(\u001b[39m4\u001b[39m,\u001b[39m5\u001b[39m)\n\u001b[1;32m      <a href='vscode-notebook-cell:/home/shelia/AllFiles/Code_Practice/ZTM_Course/introductions/fundamentals.ipynb#X21sZmlsZQ%3D%3D?line=1'>2</a>\u001b[0m tensor_D\u001b[39m=\u001b[39mtorch\u001b[39m.\u001b[39mrand(\u001b[39m4\u001b[39m,\u001b[39m5\u001b[39m)\n\u001b[0;32m----> <a href='vscode-notebook-cell:/home/shelia/AllFiles/Code_Practice/ZTM_Course/introductions/fundamentals.ipynb#X21sZmlsZQ%3D%3D?line=2'>3</a>\u001b[0m Mul1\u001b[39m=\u001b[39mtorch\u001b[39m.\u001b[39;49mmm(tensor_C,tensor_D)\n",
      "\u001b[0;31mRuntimeError\u001b[0m: mat1 and mat2 shapes cannot be multiplied (4x5 and 4x5)"
     ]
    }
   ],
   "source": [
    "tensor_C=torch.rand(4,5)\n",
    "tensor_D=torch.rand(4,5)\n",
    "Mul1=torch.mm(tensor_C,tensor_D)"
   ]
  },
  {
   "cell_type": "markdown",
   "metadata": {},
   "source": [
    "Change the shape of one tensor using a \n",
    "#### transpose: Switches the axes or dimensions of given tensor"
   ]
  },
  {
   "cell_type": "code",
   "execution_count": 15,
   "metadata": {},
   "outputs": [
    {
     "data": {
      "text/plain": [
       "tensor([[1.5421, 0.7441, 1.4771, 1.6335],\n",
       "        [0.7391, 0.3777, 0.8260, 0.7477],\n",
       "        [0.6027, 0.4860, 0.8675, 0.6915],\n",
       "        [1.5799, 1.3862, 2.2012, 2.1141]])"
      ]
     },
     "execution_count": 15,
     "metadata": {},
     "output_type": "execute_result"
    }
   ],
   "source": [
    "Mul1=torch.mm(tensor_C,tensor_D.T) ##the second tensor has been transposed\n",
    "Mul1"
   ]
  },
  {
   "cell_type": "code",
   "execution_count": 16,
   "metadata": {},
   "outputs": [
    {
     "data": {
      "text/plain": [
       "(torch.Size([4, 5]), torch.Size([4, 5]))"
      ]
     },
     "execution_count": 16,
     "metadata": {},
     "output_type": "execute_result"
    }
   ],
   "source": [
    "tensor_C.shape, tensor_C.size()"
   ]
  },
  {
   "cell_type": "markdown",
   "metadata": {},
   "source": [
    "### Min, Max and Median of a Tensor"
   ]
  },
  {
   "cell_type": "code",
   "execution_count": 17,
   "metadata": {},
   "outputs": [
    {
     "data": {
      "text/plain": [
       "(tensor(11), tensor(3))"
      ]
     },
     "execution_count": 17,
     "metadata": {},
     "output_type": "execute_result"
    }
   ],
   "source": [
    "##min\n",
    "torch.min(tensor_A),tensor_A.min()\n",
    "\n",
    "##max\n",
    "torch.max(tensor_A),tensor_A.max()\n",
    "\n",
    "## mean: the mean() function requires the tensor to be float32 datatype\n",
    "torch.mean(tensor_A.type(torch.float32)), (tensor_A.type(torch.float32)).mean()\n",
    "\n",
    "## finding positional min or max\n",
    "tensor_A.argmin(), tensor_A.argmax()\n"
   ]
  },
  {
   "cell_type": "markdown",
   "metadata": {},
   "source": [
    "### Reshaping, Viewing, Stacking\n",
    "<u>Reshaping</u>: reshape reshapes an input tensor to a defined shape.<br>\n",
    "<u>Viewing</u> :shows a view of an input tensor of a certain shape, but keep the same memory as the original tensor.<br>\n",
    "<u>Stacking</u>: combining multiple tensors on top of each other(vstack) or side by side (hstack) or just stack with a dim<br>\n"
   ]
  },
  {
   "cell_type": "code",
   "execution_count": 18,
   "metadata": {},
   "outputs": [
    {
     "data": {
      "text/plain": [
       "tensor([[8.2174e-01, 2.5373e-01, 5.0803e-01, 9.9719e-01, 2.6509e-01],\n",
       "        [5.8536e-01, 2.1487e-02, 1.1326e-01, 4.5345e-02, 3.4086e-01],\n",
       "        [6.5797e-01, 5.7238e-04, 8.4903e-01, 2.7177e-01, 2.9507e-01],\n",
       "        [1.8247e-01, 1.5660e-02, 3.7453e-01, 6.2689e-02, 1.2335e-01]])"
      ]
     },
     "execution_count": 18,
     "metadata": {},
     "output_type": "execute_result"
    }
   ],
   "source": [
    "tensor_A.reshape(5,4)\n",
    "\n",
    "tensor_x=tensor_A\n",
    "z=tensor_x.view(4,5)\n",
    "z\n"
   ]
  },
  {
   "cell_type": "code",
   "execution_count": 19,
   "metadata": {},
   "outputs": [
    {
     "data": {
      "text/plain": [
       "(tensor([[1, 2, 3, 4, 5, 6, 7, 8],\n",
       "         [1, 2, 3, 4, 5, 6, 7, 8],\n",
       "         [1, 2, 3, 4, 5, 6, 7, 8]]),\n",
       " tensor([[1, 1, 1],\n",
       "         [2, 2, 2],\n",
       "         [3, 3, 3],\n",
       "         [4, 4, 4],\n",
       "         [5, 5, 5],\n",
       "         [6, 6, 6],\n",
       "         [7, 7, 7],\n",
       "         [8, 8, 8]]))"
      ]
     },
     "execution_count": 19,
     "metadata": {},
     "output_type": "execute_result"
    }
   ],
   "source": [
    "tensor_y=torch.arange(1,9)\n",
    "## tensor([1, 2, 3, 4, 5, 6, 7, 8])\n",
    "\n",
    "tensor_y_stacked_ver=torch.stack([tensor_y,tensor_y,tensor_y], dim=0)\n",
    "tensor_y_stacked_hor=torch.stack([tensor_y,tensor_y,tensor_y], dim=1)\n",
    "tensor_y_stacked_ver, tensor_y_stacked_hor\n",
    "\n"
   ]
  },
  {
   "cell_type": "markdown",
   "metadata": {},
   "source": [
    "### Squeezing, Unsqueezing, Permute\n",
    "<u>Squeezing</u>: Removes all '1' dimensions from tensor<br>\n",
    "<u>unsquuezing</u>: add a '1' dimension to the tensor<br>\n",
    "<u>Permute</u>: which return a view of the input with dimensions permuted(swapped) in a certain way."
   ]
  },
  {
   "cell_type": "code",
   "execution_count": 20,
   "metadata": {},
   "outputs": [
    {
     "data": {
      "text/plain": [
       "(torch.Size([2, 2, 1, 2, 1]), torch.Size([2, 1, 2, 1, 2, 1]))"
      ]
     },
     "execution_count": 20,
     "metadata": {},
     "output_type": "execute_result"
    }
   ],
   "source": [
    "tensor_sq=torch.zeros(2,1,2,1,2,1)\n",
    "tensor_sq_s=tensor_sq.squeeze(dim=1) ##changes takes place to that particular dimension. (0 indexed)\n",
    "tensor_sq_u=tensor_sq_s.unsqueeze(dim=1) ## Returns a new tensor with a dimension of size one inserted at the specified position\n",
    "tensor_sq_s.shape,tensor_sq_u.shape\n"
   ]
  },
  {
   "cell_type": "code",
   "execution_count": 21,
   "metadata": {},
   "outputs": [
    {
     "data": {
      "text/plain": [
       "torch.Size([4, 5, 3])"
      ]
     },
     "execution_count": 21,
     "metadata": {},
     "output_type": "execute_result"
    }
   ],
   "source": [
    "tensor_perm=torch.zeros(5,3,4).permute(2,0,1)\n",
    "tensor_perm.shape"
   ]
  },
  {
   "cell_type": "code",
   "execution_count": 25,
   "metadata": {},
   "outputs": [
    {
     "name": "stdout",
     "output_type": "stream",
     "text": [
      "tensor([[[0.4387, 0.7986, 0.7937, 0.5872, 0.2777],\n",
      "         [0.7125, 0.9407, 0.7912, 0.2892, 0.1855],\n",
      "         [0.4948, 0.0810, 0.6458, 0.6925, 0.1486],\n",
      "         [0.4224, 0.7832, 0.0890, 0.6796, 0.7920]],\n",
      "\n",
      "        [[0.6873, 0.2097, 0.9326, 0.9293, 0.0209],\n",
      "         [0.6810, 0.3170, 0.4537, 0.1983, 0.1684],\n",
      "         [0.8907, 0.9700, 0.6557, 0.4173, 0.7181],\n",
      "         [0.8650, 0.1405, 0.6417, 0.9522, 0.4049]],\n",
      "\n",
      "        [[0.5749, 0.4503, 0.4273, 0.4375, 0.0296],\n",
      "         [0.2671, 0.1904, 0.1402, 0.6759, 0.4718],\n",
      "         [0.5561, 0.7625, 0.5295, 0.1244, 0.5517],\n",
      "         [0.5306, 0.3229, 0.9096, 0.2832, 0.0107]]])\n",
      "tensor([[[0.4387, 0.7125, 0.4948, 0.4224],\n",
      "         [0.6873, 0.6810, 0.8907, 0.8650],\n",
      "         [0.5749, 0.2671, 0.5561, 0.5306]],\n",
      "\n",
      "        [[0.7986, 0.9407, 0.0810, 0.7832],\n",
      "         [0.2097, 0.3170, 0.9700, 0.1405],\n",
      "         [0.4503, 0.1904, 0.7625, 0.3229]],\n",
      "\n",
      "        [[0.7937, 0.7912, 0.6458, 0.0890],\n",
      "         [0.9326, 0.4537, 0.6557, 0.6417],\n",
      "         [0.4273, 0.1402, 0.5295, 0.9096]],\n",
      "\n",
      "        [[0.5872, 0.2892, 0.6925, 0.6796],\n",
      "         [0.9293, 0.1983, 0.4173, 0.9522],\n",
      "         [0.4375, 0.6759, 0.1244, 0.2832]],\n",
      "\n",
      "        [[0.2777, 0.1855, 0.1486, 0.7920],\n",
      "         [0.0209, 0.1684, 0.7181, 0.4049],\n",
      "         [0.0296, 0.4718, 0.5517, 0.0107]]])\n"
     ]
    }
   ],
   "source": [
    "tensor_perm1=torch.rand(size=(3,4,5))\n",
    "tensor_perm2=tensor_perm1.permute(2,0,1)\n",
    "print(tensor_perm1)\n",
    "print(tensor_perm2)"
   ]
  },
  {
   "cell_type": "markdown",
   "metadata": {},
   "source": [
    "### Indexing and Slicing\n",
    "[][]/[,] for indexing of a 2D tensor<br>\n",
    "[: , :] == ',' between dimentions and ':' between the start and end index of a dimension "
   ]
  },
  {
   "cell_type": "code",
   "execution_count": 22,
   "metadata": {},
   "outputs": [
    {
     "data": {
      "text/plain": [
       "tensor([[[0.2275, 0.8829, 0.2155],\n",
       "         [0.2492, 0.3177, 0.0391],\n",
       "         [0.7192, 0.6340, 0.3424],\n",
       "         [0.3558, 0.1763, 0.6150],\n",
       "         [0.7549, 0.2930, 0.3009]],\n",
       "\n",
       "        [[0.1431, 0.3665, 0.8019],\n",
       "         [0.5048, 0.6680, 0.4654],\n",
       "         [0.8124, 0.7155, 0.6275],\n",
       "         [0.1505, 0.7009, 0.7470],\n",
       "         [0.2831, 0.4080, 0.5800]],\n",
       "\n",
       "        [[0.1304, 0.1733, 0.4632],\n",
       "         [0.8708, 0.6318, 0.6444],\n",
       "         [0.1580, 0.9833, 0.0940],\n",
       "         [0.0666, 0.7640, 0.6579],\n",
       "         [0.0039, 0.9914, 0.4353]],\n",
       "\n",
       "        [[0.0105, 0.9677, 0.9859],\n",
       "         [0.0221, 0.1895, 0.8960],\n",
       "         [0.4822, 0.3574, 0.0494],\n",
       "         [0.0806, 0.4355, 0.5023],\n",
       "         [0.8662, 0.4661, 0.0279]]])"
      ]
     },
     "execution_count": 22,
     "metadata": {},
     "output_type": "execute_result"
    }
   ],
   "source": [
    "tensor_index=torch.rand(4,5,3)\n",
    "tensor_index"
   ]
  },
  {
   "cell_type": "code",
   "execution_count": 23,
   "metadata": {},
   "outputs": [
    {
     "data": {
      "text/plain": [
       "(tensor([0.2275, 0.8829, 0.2155]), tensor([[[0.2155]]]))"
      ]
     },
     "execution_count": 23,
     "metadata": {},
     "output_type": "execute_result"
    }
   ],
   "source": [
    "tensor_index[0][0], tensor_index[0:1,0:1,2:3]"
   ]
  },
  {
   "cell_type": "markdown",
   "metadata": {},
   "source": [
    "### Numpy array to Tensor"
   ]
  },
  {
   "cell_type": "code",
   "execution_count": 29,
   "metadata": {},
   "outputs": [
    {
     "data": {
      "text/plain": [
       "(dtype('float64'), torch.float64, dtype('float64'))"
      ]
     },
     "execution_count": 29,
     "metadata": {},
     "output_type": "execute_result"
    }
   ],
   "source": [
    "## Numpy array default datatype is  reflected as the deafult datatype for torc datatype unless defined different and vice versa\n",
    "## numpy and tensor doesn't share memory\n",
    "\n",
    "array1=np.arange(1.0)\n",
    "torch1=torch.from_numpy(array1) #converts numpy array to tensor\n",
    "array2=torch1.numpy() # converst tensor to numpy array\n",
    "array1.dtype,torch1.dtype,array2.dtype"
   ]
  }
 ],
 "metadata": {
  "kernelspec": {
   "display_name": "SheliaWorkspace",
   "language": "python",
   "name": "python3"
  },
  "language_info": {
   "codemirror_mode": {
    "name": "ipython",
    "version": 3
   },
   "file_extension": ".py",
   "mimetype": "text/x-python",
   "name": "python",
   "nbconvert_exporter": "python",
   "pygments_lexer": "ipython3",
   "version": "3.9.16"
  },
  "orig_nbformat": 4
 },
 "nbformat": 4,
 "nbformat_minor": 2
}
